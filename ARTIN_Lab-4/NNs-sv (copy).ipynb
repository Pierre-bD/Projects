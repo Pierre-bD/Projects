{
 "cells": [
  {
   "cell_type": "markdown",
   "metadata": {},
   "source": [
    "# Introduction to Neural Networks \n",
    "\n",
    "\n",
    "** Ecole Centrale Nantes **\n",
    "\n",
    "** Diana Mateus **\n"
   ]
  },
  {
   "cell_type": "markdown",
   "metadata": {},
   "source": [
    "** Participants : **\n",
    "\n"
   ]
  },
  {
   "cell_type": "markdown",
   "metadata": {},
   "source": [
    "## General description\n",
    "In this lab we will create a simple classifier based on neural networks. We will progress in two parts:\n",
    "- In the first part, and to better understand the involved operations, we will create a single-neuron model and optimize its parameters \"by hand\". For this first part we will only use the **Numpy** library\n",
    "- We will then build a multi-layer perceptron with the built-in library **Keras** module and **tensorflow**. Tensorflow is already installed in the university computers. If using your own computer you should have already installed **tensorflow** or use **collab** online platform.\n",
    "\n",
    "\n"
   ]
  },
  {
   "cell_type": "code",
   "execution_count": 1,
   "metadata": {},
   "outputs": [],
   "source": [
    "import numpy as np\n",
    "import matplotlib.pyplot as plt\n",
    "import h5py"
   ]
  },
  {
   "cell_type": "markdown",
   "metadata": {},
   "source": [
    "### Loading the dataset\n",
    "Start by runing the following lines to load and visualize the data."
   ]
  },
  {
   "cell_type": "code",
   "execution_count": 2,
   "metadata": {},
   "outputs": [],
   "source": [
    "def load_dataset():\n",
    "    train_dataset = h5py.File('dataset/train_catvnoncat.h5', \"r\")\n",
    "    train_x = np.array(train_dataset[\"train_set_x\"][:]) \n",
    "    train_y = np.array(train_dataset[\"train_set_y\"][:])\n",
    "\n",
    "    test_dataset = h5py.File('dataset/test_catvnoncat.h5', \"r\")\n",
    "    test_x = np.array(test_dataset[\"test_set_x\"][:]) \n",
    "    test_y = np.array(test_dataset[\"test_set_y\"][:])\n",
    "\n",
    "    classes = np.array(test_dataset[\"list_classes\"][:]) \n",
    "    \n",
    "    train_y = train_y.reshape((1, train_y.shape[0]))\n",
    "    test_y = test_y.reshape((1, test_y.shape[0]))\n",
    "    \n",
    "    return train_x, train_y, test_x, test_y, classes"
   ]
  },
  {
   "cell_type": "markdown",
   "metadata": {},
   "source": [
    "#### Visualize data"
   ]
  },
  {
   "cell_type": "code",
   "execution_count": 3,
   "metadata": {},
   "outputs": [
    {
     "name": "stdout",
     "output_type": "stream",
     "text": [
      "Train X shape: (209, 64, 64, 3)\n",
      "Train Y shape: (1, 209)\n",
      "Test X shape: (50, 64, 64, 3)\n",
      "Test Y shape: (1, 50)\n"
     ]
    },
    {
     "data": {
      "text/plain": [
       "<matplotlib.image.AxesImage at 0x7f611ad44eb0>"
      ]
     },
     "execution_count": 3,
     "metadata": {},
     "output_type": "execute_result"
    },
    {
     "data": {
      "image/png": "[encoded data removed]",
      "text/plain": [
       "<Figure size 432x288 with 1 Axes>"
      ]
     },
     "metadata": {
      "needs_background": "light"
     },
     "output_type": "display_data"
    }
   ],
   "source": [
    "train_x, train_y, test_x, test_y, classes = load_dataset()\n",
    "\n",
    "print (\"Train X shape: \" + str(train_x.shape))\n",
    "print (\"Train Y shape: \" + str(train_y.shape))\n",
    "print (\"Test X shape: \" + str(test_x.shape))\n",
    "print (\"Test Y shape: \" + str(test_y.shape))\n",
    "\n",
    "index = 2\n",
    "plt.imshow(train_x[index])"
   ]
  },
  {
   "cell_type": "markdown",
   "metadata": {},
   "source": [
    "#### Preprocessing\n",
    "In the following lines we vectorize the images (Instead of a 2-D image we will give as input to the models a 1-D vector). The normalization makes the image intensities be between 0 and 1, and converts the images to floats."
   ]
  },
  {
   "cell_type": "code",
   "execution_count": 4,
   "metadata": {},
   "outputs": [
    {
     "name": "stdout",
     "output_type": "stream",
     "text": [
      "Train X shape: (12288, 209)\n",
      "Train Y shape: (1, 209)\n",
      "Test X shape: (12288, 50)\n",
      "Test Y shape: (1, 50)\n"
     ]
    }
   ],
   "source": [
    "train_x = train_x.reshape(train_x.shape[0], -1).T\n",
    "test_x = test_x.reshape(test_x.shape[0], -1).T\n",
    "\n",
    "print (\"Train X shape: \" + str(train_x.shape))\n",
    "print (\"Train Y shape: \" + str(train_y.shape))\n",
    "print (\"Test X shape: \" + str(test_x.shape))\n",
    "print (\"Test Y shape: \" + str(test_y.shape))"
   ]
  },
  {
   "cell_type": "code",
   "execution_count": 5,
   "metadata": {},
   "outputs": [],
   "source": [
    "train_x = train_x/255.\n",
    "test_x = test_x/255."
   ]
  },
  {
   "cell_type": "markdown",
   "metadata": {},
   "source": [
    "### 1. Classification with a single neuron \n"
   ]
  },
  {
   "cell_type": "markdown",
   "metadata": {},
   "source": [
    "**a)** Fill-in the following three functions to define the single neuron model:\n",
    "- A function **initialize_parameters** that randomly initializes the model's weights with small values. The number of the weights corresponds to the dimension of the input (size of the image)\n",
    "- A function **sigmoid** that computes the sigmoid activation function\n",
    "- A function **neuron** that given an input vector, weights and biases computes the output of the single neuron model"
   ]
  },
  {
   "cell_type": "code",
   "execution_count": 6,
   "metadata": {},
   "outputs": [],
   "source": [
    "def sigmoid(z):\n",
    "    return 1/(1+np.exp(-z))"
   ]
  },
  {
   "cell_type": "code",
   "execution_count": 7,
   "metadata": {},
   "outputs": [],
   "source": [
    "def initialize_parameters(dim):\n",
    "    w = np.random.randn(dim, 1)*0.01\n",
    "    b = 0\n",
    "    return w, b"
   ]
  },
  {
   "cell_type": "code",
   "execution_count": 8,
   "metadata": {},
   "outputs": [
    {
     "name": "stdout",
     "output_type": "stream",
     "text": [
      "[[ 0.00737426]\n",
      " [-0.0043893 ]\n",
      " [ 0.00746223]\n",
      " ...\n",
      " [-0.01431221]\n",
      " [ 0.00530244]\n",
      " [ 0.00621261]]\n",
      "0\n",
      "{'dw': array([[0.09240049],\n",
      "       [0.10899584],\n",
      "       [0.09176042],\n",
      "       ...,\n",
      "       [0.09237473],\n",
      "       [0.10434907],\n",
      "       [0.06852574]]), 'db': 0.2624457073751033}\n",
      "0.7759673299484603\n"
     ]
    }
   ],
   "source": [
    "def propagate(w, b, X, Y):\n",
    "    m = X.shape[1]\n",
    "    \n",
    "    #calculate activation function\n",
    "    A = sigmoid(np.dot(w.T, X)+b)    #find the cost\n",
    "    cost = (-1/m) * np.sum(Y * np.log(A) + (1 - Y) * (np.log(1 - A)))  \n",
    "    #find gradient (back propagation)\n",
    "    dw = (1/m) * np.dot(X, (A-Y).T)\n",
    "    db = (1/m) * np.sum(A-Y)    \n",
    "    cost = np.squeeze(cost)\n",
    "    grads = {\"dw\": dw,\n",
    "             \"db\": db} \n",
    "    return grads, cost\n",
    "\n",
    "w,b = initialize_parameters (train_x.shape[0])\n",
    "gr,cos = propagate (w,b,train_x, train_y)\n",
    "print(w)\n",
    "print (b)\n",
    "print (gr)\n",
    "print (cos)"
   ]
  },
  {
   "cell_type": "markdown",
   "metadata": {},
   "source": [
    "**b)** **Forward Pass:**\n",
    "Use the three functions above to compute a first forward pass for the input matrix $X$ containing the loaded dataset, for some initialization of the weights and bias.\n",
    " \n",
    " \\begin{align}\n",
    " Y_{\\rm pred}=\\sigma(w^\\top X+b) = [y_{\\rm pred}^{(1)},y_{\\rm pred}^{(2)},\\dots,y_{\\rm pred}^{(m)}]\n",
    " \\end{align}\n",
    " "
   ]
  },
  {
   "cell_type": "code",
   "execution_count": 9,
   "metadata": {},
   "outputs": [],
   "source": [
    "def gradient_descent(w, b, X, Y, iterations, learning_rate):\n",
    "    costs = []\n",
    "    for i in range(iterations):\n",
    "        grads, cost = propagate(w, b, X, Y)\n",
    "        \n",
    "        #update parameters\n",
    "        w = w - learning_rate * grads[\"dw\"]\n",
    "        b = b - learning_rate * grads[\"db\"]\n",
    "        costs.append(cost)\n",
    "        if i % 500 == 0:\n",
    "            print (\"Cost after iteration %i: %f\" %(i, cost))\n",
    "    \n",
    "    params = {\"w\": w,\n",
    "              \"b\": b}    \n",
    "    return params, costs"
   ]
  },
  {
   "cell_type": "markdown",
   "metadata": {},
   "source": [
    "**f) Prediction**\n",
    "Use the optimized parameters to make predictions both for the train and test sets and compute the accuracy for each. What do you observe?"
   ]
  },
  {
   "cell_type": "code",
   "execution_count": 10,
   "metadata": {},
   "outputs": [],
   "source": [
    "def predict(w, b, X):    \n",
    "    # number of example\n",
    "    m = X.shape[1]\n",
    "    y_pred = np.zeros((1,m))\n",
    "    w = w.reshape(X.shape[0], 1)\n",
    "    \n",
    "    A = sigmoid(np.dot(w.T, X)+b)\n",
    "    \n",
    "    for i in range(A.shape[1]):\n",
    "        y_pred[0,i] = 1 if A[0,i] >0.5 else 0 \n",
    "        pass\n",
    "    return y_pred\n",
    "    "
   ]
  },
  {
   "cell_type": "markdown",
   "metadata": {},
   "source": [
    "**g) Early stopping** \n",
    "- Adapt the gradient descent function to consider part (a percentage) of the training data for validation. Use the validation set to choose the training hyperparameters (learning_rate, iterations). \n",
    "- Plot the training and validation curves\n",
    "- Report again the training and test accuracy and loss for the new trained model\n",
    "- What do you observe\n",
    "\n"
   ]
  },
  {
   "cell_type": "code",
   "execution_count": 11,
   "metadata": {},
   "outputs": [],
   "source": [
    "def model(train_x, train_y, test_x, test_y, iterations, learning_rate):\n",
    "    w, b = initialize_parameters(train_x.shape[0])\n",
    "    parameters, costs = gradient_descent(w, b, train_x, train_y, iterations, learning_rate)\n",
    "    \n",
    "    w = parameters[\"w\"]\n",
    "    b = parameters[\"b\"]\n",
    "    \n",
    "    # predict \n",
    "    train_pred_y = predict(w, b, train_x)\n",
    "    test_pred_y = predict(w, b, test_x)    \n",
    "    print(\"Train Acc: {} %\".format(100 - np.mean(np.abs(train_pred_y - train_y)) * 100))\n",
    "    print(\"Test Acc: {} %\".format(100 - np.mean(np.abs(test_pred_y - test_y)) * 100))\n",
    "    \n",
    "    return costs"
   ]
  },
  {
   "cell_type": "code",
   "execution_count": 12,
   "metadata": {},
   "outputs": [
    {
     "name": "stdout",
     "output_type": "stream",
     "text": [
      "Cost after iteration 0: 0.785301\n",
      "Cost after iteration 500: 0.302386\n",
      "Cost after iteration 1000: 0.214233\n",
      "Cost after iteration 1500: 0.166111\n",
      "Train Acc: 99.04306220095694 %\n",
      "Test Acc: 68.0 %\n"
     ]
    }
   ],
   "source": [
    "costs = model(train_x, train_y, test_x, test_y, iterations = 2000, learning_rate = 0.005)"
   ]
  },
  {
   "cell_type": "code",
   "execution_count": 13,
   "metadata": {},
   "outputs": [
    {
     "ename": "NameError",
     "evalue": "name 'd' is not defined",
     "output_type": "error",
     "traceback": [
      "\u001b[0;31m---------------------------------------------------------------------------\u001b[0m",
      "\u001b[0;31mNameError\u001b[0m                                 Traceback (most recent call last)",
      "\u001b[0;32m/tmp/ipykernel_8466/2203479327.py\u001b[0m in \u001b[0;36m<module>\u001b[0;34m\u001b[0m\n\u001b[1;32m      2\u001b[0m \u001b[0mplt\u001b[0m\u001b[0;34m.\u001b[0m\u001b[0mylabel\u001b[0m\u001b[0;34m(\u001b[0m\u001b[0;34m'cost'\u001b[0m\u001b[0;34m)\u001b[0m\u001b[0;34m\u001b[0m\u001b[0;34m\u001b[0m\u001b[0m\n\u001b[1;32m      3\u001b[0m \u001b[0mplt\u001b[0m\u001b[0;34m.\u001b[0m\u001b[0mxlabel\u001b[0m\u001b[0;34m(\u001b[0m\u001b[0;34m'iterations'\u001b[0m\u001b[0;34m)\u001b[0m\u001b[0;34m\u001b[0m\u001b[0;34m\u001b[0m\u001b[0m\n\u001b[0;32m----> 4\u001b[0;31m \u001b[0mplt\u001b[0m\u001b[0;34m.\u001b[0m\u001b[0mtitle\u001b[0m\u001b[0;34m(\u001b[0m\u001b[0;34m\"Learning rate =\"\u001b[0m \u001b[0;34m+\u001b[0m \u001b[0mstr\u001b[0m\u001b[0;34m(\u001b[0m\u001b[0md\u001b[0m\u001b[0;34m[\u001b[0m\u001b[0;34m\"learning_rate\"\u001b[0m\u001b[0;34m]\u001b[0m\u001b[0;34m)\u001b[0m\u001b[0;34m)\u001b[0m\u001b[0;34m\u001b[0m\u001b[0;34m\u001b[0m\u001b[0m\n\u001b[0m\u001b[1;32m      5\u001b[0m \u001b[0mplt\u001b[0m\u001b[0;34m.\u001b[0m\u001b[0mshow\u001b[0m\u001b[0;34m(\u001b[0m\u001b[0;34m)\u001b[0m\u001b[0;34m\u001b[0m\u001b[0;34m\u001b[0m\u001b[0m\n",
      "\u001b[0;31mNameError\u001b[0m: name 'd' is not defined"
     ]
    },
    {
     "data": {
      "image/png": "[encoded data removed]",
      "text/plain": [
       "<Figure size 432x288 with 1 Axes>"
      ]
     },
     "metadata": {
      "needs_background": "light"
     },
     "output_type": "display_data"
    }
   ],
   "source": [
    "plt.plot(costs)\n",
    "plt.ylabel('cost')\n",
    "plt.xlabel('iterations')\n",
    "plt.title(\"Learning rate =\" + str(d[\"learning_rate\"]))\n",
    "plt.show()"
   ]
  },
  {
   "cell_type": "markdown",
   "metadata": {},
   "source": [
    "### 2. CNNs with Keras\n",
    "\n",
    "Adapt the example in this website https://keras.io/examples/vision/mnist_convnet/ to our problem. To this end:\n",
    "- change the number of classes and the input size\n",
    "- remove the expand_dims(x_train, -1): it is not necessary to expand the dimensions since our input is 3-dimensional \n",
    "- you may need to transpose the labels vector\n",
    "- change the categorical cross-entropy to the binary cross entropy given that our problem is binary classification. \n",
    "- also change the softmax to sigmoid, the more appropriate activation function for binary data\n",
    "\n",
    "We can choose a single neuron output passed through sigmoid, and then set a threshold to choose the class, or use two neuron output and then perform a softmax.\n",
    "\n",
    "**2.1** Can you get the accuracy better than in our hand single-neuron model?Try different configurations and explain the changes you have made.\n",
    "\n",
    "**2.2** Compute the train and test loss and accuracy after the model has been trained.  What model parameters does the ``fit`` function retain?\n",
    "\n",
    "**2.3** How many parameters does the network have, explain where the number comes from.\n",
    "\n",
    "**2.4** What is the receptive field of the network https://distill.pub/2019/computing-receptive-fields/"
   ]
  },
  {
   "cell_type": "code",
   "execution_count": null,
   "metadata": {},
   "outputs": [],
   "source": [
    "import numpy as np\n",
    "from tensorflow import keras\n",
    "from tensorflow.keras import layers"
   ]
  },
  {
   "cell_type": "code",
   "execution_count": null,
   "metadata": {},
   "outputs": [],
   "source": [
    "# the data, split between train and test sets\n",
    "x_train, y_train, x_test, y_test, classes=load_dataset()\n",
    "\n",
    "# Scale images to the [0, 1] range\n",
    "x_train = x_train.astype(\"float32\") / 255\n",
    "x_test = x_test.astype(\"float32\") / 255\n",
    "\n",
    "# convert class vectors to binary class matrices\n",
    "y_train = y_train.T\n",
    "y_test = y_test.T\n",
    "\n",
    "\n"
   ]
  },
  {
   "cell_type": "code",
   "execution_count": null,
   "metadata": {},
   "outputs": [],
   "source": [
    "#build the model\n",
    "model =\n",
    "model.summary()"
   ]
  },
  {
   "cell_type": "code",
   "execution_count": null,
   "metadata": {},
   "outputs": [],
   "source": [
    "#comiple and fit"
   ]
  },
  {
   "cell_type": "code",
   "execution_count": null,
   "metadata": {},
   "outputs": [],
   "source": [
    "#evaluate\n"
   ]
  },
  {
   "cell_type": "markdown",
   "metadata": {},
   "source": [
    "## BONUS: \n",
    "Replace the fit function by your own tensorflow  implementation\n",
    "\n",
    "1. Instantiate one of keras.optimizers to train the model.\n",
    "\n",
    "optimizer = \n",
    "\n",
    "2. Instantiate a loss from keras.losses\n",
    "\n",
    "loss_fn = \n",
    "\n",
    "3. Prepare the metrics. Instatiate the metrics from keras.metrics\n",
    "\n",
    "train_acc_metric =\n",
    "val_acc_metric =\n",
    "\n",
    "4. Stochastic Gradient Loop\n",
    "    * Iterate over the dataset in batches with \n",
    "    * Open a GradientTape() scope \n",
    "    * Inside this scope call the model (forward pass)\n",
    "    * Compute the loss outside the scope\n",
    "    * Retrieve the weight gradients\n",
    "    * Use the optimimzer to update the weights with the gradients\n",
    "\n"
   ]
  },
  {
   "cell_type": "code",
   "execution_count": null,
   "metadata": {},
   "outputs": [],
   "source": [
    "\n"
   ]
  }
 ],
 "metadata": {
  "interpreter": {
   "hash": "072196596c1bc1956785552ec708fe0e7ebfa97fc2a86d0f77b1a6aec35d0193"
  },
  "kernelspec": {
   "display_name": "tf2",
   "language": "python",
   "name": "python3"
  },
  "language_info": {
   "codemirror_mode": {
    "name": "ipython",
    "version": 3
   },
   "file_extension": ".py",
   "mimetype": "text/x-python",
   "name": "python",
   "nbconvert_exporter": "python",
   "pygments_lexer": "ipython3",
   "version": "3.9.5"
  }
 },
 "nbformat": 4,
 "nbformat_minor": 4
}
