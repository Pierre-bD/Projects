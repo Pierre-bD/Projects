{
 "cells": [
  {
   "cell_type": "markdown",
   "metadata": {},
   "source": [
    "# CLUSTERING PRACTICAL\n",
    "\n",
    "## ARTIN\n",
    "\n",
    "## Mathieu Lagrange\n",
    "\n",
    "reports are to be sent to [mathieu dot lagrange at ec-nantes dot fr] no later than a week after the lab  \n",
    "DEADLINE : 25 Octobre 2021"
   ]
  },
  {
   "cell_type": "markdown",
   "metadata": {},
   "source": [
    "\"\"\"\n",
    "Created 12 / 10 / 2021\n",
    "\n",
    "@author: Sid Ali DEBBACHE  & Pierre Baptiste DEMONCEAUX\n",
    "\"\"\""
   ]
  },
  {
   "cell_type": "markdown",
   "metadata": {},
   "source": [
    "## Import tools\n",
    "\n",
    "please import others if needed"
   ]
  },
  {
   "cell_type": "code",
   "execution_count": 19,
   "metadata": {},
   "outputs": [],
   "source": [
    "import numpy as np\n",
    "from numpy import random as rd\n",
    "import pandas as pd\n",
    "import matplotlib.pyplot as plt\n",
    "import sklearn as sk\n",
    "from sklearn.datasets import make_blobs\n",
    "from sklearn.cluster import kmeans_plusplus\n",
    "from sklearn.metrics.cluster import adjusted_rand_score\n",
    "from sklearn.metrics import confusion_matrix"
   ]
  },
  {
   "cell_type": "markdown",
   "metadata": {},
   "source": [
    "## Data: generate a synthetic dataset\n",
    "\n",
    "Generate a set of 100 points in a 2 dimensional space split into 4 non overlapping\n",
    "clusters."
   ]
  },
  {
   "cell_type": "code",
   "execution_count": 47,
   "metadata": {},
   "outputs": [
    {
     "name": "stdout",
     "output_type": "stream",
     "text": [
      "(100, 2)\n",
      "[[ 7.5437803   6.920481  ]\n",
      " [-3.89163221  0.62228194]\n",
      " [-7.79497119 -5.92884848]\n",
      " [-7.54543635 -6.1714551 ]\n",
      " [-5.88262631 -5.89787385]\n",
      " [-3.55301671  1.0167948 ]\n",
      " [ 8.11451914  7.83645352]\n",
      " [ 0.04198678  4.55096172]\n",
      " [ 7.40693821  6.87939563]\n",
      " [ 7.31504227  7.9789109 ]\n",
      " [-4.75790293  0.44292924]\n",
      " [ 1.60537851  3.50231587]\n",
      " [-4.09486729  0.91728148]\n",
      " [ 7.5405898   7.48754579]\n",
      " [-7.74682782 -6.1793046 ]\n",
      " [-8.13064509 -5.63262045]\n",
      " [ 8.19416701  7.63884298]\n",
      " [-7.49947042 -5.56502516]\n",
      " [ 7.12639794  7.96163104]\n",
      " [-7.68124461 -5.76446421]\n",
      " [ 8.24597628  8.113698  ]\n",
      " [-3.77446226 -0.2967102 ]\n",
      " [ 1.69034483  4.08380791]\n",
      " [ 0.53369839  2.71150655]\n",
      " [ 7.58458261  8.44143218]\n",
      " [ 7.54895033  7.81241878]\n",
      " [-3.65733379 -0.55956988]\n",
      " [ 7.45201148  8.18172282]\n",
      " [-7.56495103 -5.70624162]\n",
      " [ 0.65796827  3.80979982]\n",
      " [ 7.81247451  8.09150288]\n",
      " [-5.93134787 -0.3665522 ]\n",
      " [-4.0901378  -0.42196506]\n",
      " [ 0.2276392   4.69372988]\n",
      " [-7.96584261 -5.81149512]\n",
      " [-4.22974978  0.55524341]\n",
      " [ 7.34155399  8.56887214]\n",
      " [-7.84139476 -6.78307593]\n",
      " [-4.30035403  1.28133912]\n",
      " [ 0.26948405  3.78710631]\n",
      " [ 0.46168284  3.548631  ]\n",
      " [ 8.36044543  8.22113312]\n",
      " [-7.92355388 -5.87610847]\n",
      " [-7.22082522 -6.32476786]\n",
      " [ 1.62386812  4.67463516]\n",
      " [ 1.54474888  5.18870029]\n",
      " [-6.97059453 -6.24420165]\n",
      " [-7.09959591 -6.19136649]\n",
      " [ 0.30493014  4.03956651]\n",
      " [-4.53655246 -0.09329832]\n",
      " [-8.22967577 -5.9396143 ]\n",
      " [ 7.75808503  9.07142786]\n",
      " [-4.58674173  0.30692222]\n",
      " [ 8.34782781  7.61386673]\n",
      " [-6.45064333 -5.43871107]\n",
      " [-8.10050936 -5.69278638]\n",
      " [ 7.60922028  8.36065637]\n",
      " [-6.86492252 -5.47609593]\n",
      " [-4.1963679  -0.31664235]\n",
      " [-8.38028863 -5.00996626]\n",
      " [ 0.98966715  3.87662563]\n",
      " [ 1.46299181  5.34862292]\n",
      " [-4.79686375  0.75615517]\n",
      " [-3.79600725  0.36600413]\n",
      " [-3.67440518 -0.89998161]\n",
      " [ 1.90764706  4.30498621]\n",
      " [-3.4418226   0.30594394]\n",
      " [-0.33299661  4.00229933]\n",
      " [ 7.42932361  8.36474122]\n",
      " [-4.36202887  1.51144171]\n",
      " [ 7.93574378  8.67083169]\n",
      " [-4.27460933  1.27832849]\n",
      " [-3.81345897 -0.28619526]\n",
      " [ 7.46989255  7.48338288]\n",
      " [-7.0269147  -5.03539673]\n",
      " [ 0.40168697  3.73516053]\n",
      " [ 7.99438925  8.09808288]\n",
      " [ 0.68874208  3.23507006]\n",
      " [ 1.39110503  4.06664843]\n",
      " [ 8.36985046  8.21761137]\n",
      " [ 0.49162867  4.18078474]\n",
      " [ 0.96631316  3.78675605]\n",
      " [ 7.35839518  8.73285725]\n",
      " [ 1.04597824  3.92015   ]\n",
      " [-4.54363628 -0.93213112]\n",
      " [ 1.90848393  3.49197604]\n",
      " [ 0.55465624  4.02493802]\n",
      " [-7.57266581 -5.25688942]\n",
      " [-3.91913725  1.37993918]\n",
      " [-4.52673027  0.1508795 ]\n",
      " [-6.29519998 -5.13810744]\n",
      " [ 7.86040558  8.18064321]\n",
      " [ 0.8021956   3.11707183]\n",
      " [-7.5659104  -6.82861914]\n",
      " [ 1.68087055  4.83459085]\n",
      " [-8.70652992 -6.4316075 ]\n",
      " [-5.01936332  1.05154985]\n",
      " [-5.00430663  0.35969002]\n",
      " [-7.64503808 -6.63397042]\n",
      " [ 7.44496268  8.21771046]]\n",
      "[2 1 3 3 3 1 2 0 2 2 1 0 1 2 3 3 2 3 2 3 2 1 0 0 2 2 1 2 3 0 2 1 1 0 3 1 2\n",
      " 3 1 0 0 2 3 3 0 0 3 3 0 1 3 2 1 2 3 3 2 3 1 3 0 0 1 1 1 0 1 0 2 1 2 1 1 2\n",
      " 3 0 2 0 0 2 0 0 2 0 1 0 0 3 1 1 3 2 0 3 0 3 1 1 3 2]\n"
     ]
    }
   ],
   "source": [
    "#Generate random clusters with the make_blobs function\n",
    "\n",
    "features, clusters = make_blobs(n_samples = 100, n_features = 2, random_state=3,\n",
    "                  centers = 4, cluster_std = 0.6, shuffle = True)\n",
    "           \n",
    "print (features.shape)\n",
    "print(features)\n",
    "print(clusters)"
   ]
  },
  {
   "cell_type": "markdown",
   "metadata": {},
   "source": [
    "Display the set with one color per cluster using the scatter function from matplotlib.pyplot"
   ]
  },
  {
   "cell_type": "code",
   "execution_count": 21,
   "metadata": {},
   "outputs": [
    {
     "data": {
      "image/png": "[encoded data removed]",
      "text/plain": [
       "<Figure size 432x288 with 1 Axes>"
      ]
     },
     "metadata": {
      "needs_background": "light"
     },
     "output_type": "display_data"
    }
   ],
   "source": [
    "# Print all the clusters with different colors\n",
    "colors = ['red', 'blue', 'm', 'green']\n",
    "for k, col in enumerate (colors):\n",
    "    cluster_data = clusters == k \n",
    "    plt.scatter(features[cluster_data,0], features[cluster_data,1], c=col)\n",
    "\n",
    "plt.show()"
   ]
  },
  {
   "cell_type": "markdown",
   "metadata": {},
   "source": [
    "## Baseline: the random clustering algorithm\n",
    "\n",
    "Cluster this dataset into k clusters by assigning a random integer value between 0 and k-1 to each point."
   ]
  },
  {
   "cell_type": "code",
   "execution_count": 22,
   "metadata": {},
   "outputs": [
    {
     "name": "stdout",
     "output_type": "stream",
     "text": [
      "[2 1 3 3 3 1 2 0 2 2 1 0 1 2 3 3 2 3 2 3 2 1 0 0 2 2 1 2 3 0 2 1 1 0 3 1 2\n",
      " 3 1 0 0 2 3 3 0 0 3 3 0 1 3 2 1 2 3 3 2 3 1 3 0 0 1 1 1 0 1 0 2 1 2 1 1 2\n",
      " 3 0 2 0 0 2 0 0 2 0 1 0 0 3 1 1 3 2 0 3 0 3 1 1 3 2]\n",
      "[1 0 2 0 2 1 1 1 1 1 0 0 3 3 0 0 2 3 3 2 3 0 0 3 2 1 3 0 2 0 0 2 0 2 2 1 1\n",
      " 0 1 0 3 0 1 0 2 1 1 2 3 2 1 3 3 2 2 2 1 2 1 1 1 2 3 2 2 2 2 2 1 0 2 2 0 1\n",
      " 0 1 1 3 3 3 3 1 1 2 0 1 3 1 1 2 3 2 1 2 1 3 3 0 2 3]\n"
     ]
    }
   ],
   "source": [
    "def new_cluster(features):\n",
    "    rng = np.random.default_rng()\n",
    "    clusters = rng.integers(4, size=len(features))\n",
    "    return clusters\n",
    "\n",
    "rand_clusters = new_cluster (features)\n",
    "\n",
    "# Comparision between the reference (clusters) and the random clusters (rand_clusters) created by the function\n",
    "print (clusters)\n",
    "\n",
    "print (rand_clusters)"
   ]
  },
  {
   "cell_type": "code",
   "execution_count": 23,
   "metadata": {},
   "outputs": [
    {
     "data": {
      "image/png": "[encoded data removed]",
      "text/plain": [
       "<Figure size 432x288 with 1 Axes>"
      ]
     },
     "metadata": {
      "needs_background": "light"
     },
     "output_type": "display_data"
    }
   ],
   "source": [
    "# We plot and attribute a new color to each point of the (features) dataset using the (random clusters)\n",
    "colors = ['red', 'blue', 'm', 'green']\n",
    "for k, col in enumerate (colors):\n",
    "    cluster_data = rand_clusters == k \n",
    "    plt.scatter(features[cluster_data,0], features[cluster_data,1], c=col)\n",
    "\n",
    "plt.show()"
   ]
  },
  {
   "cell_type": "markdown",
   "metadata": {},
   "source": [
    "## Metric: the rand index\n",
    "\n",
    "Implement the rand index criterion (see https://en.wikipedia.org/wiki/Rand_index for reference)"
   ]
  },
  {
   "cell_type": "code",
   "execution_count": 24,
   "metadata": {},
   "outputs": [],
   "source": [
    "from scipy.special import comb \n",
    "\n",
    "def rand_index(clusters, clusters_pred):\n",
    "    tp_plus_fp = comb(np.bincount(clusters), 2).sum()\n",
    "    tp_plus_fn = comb(np.bincount(clusters_pred), 2).sum()\n",
    "    A = np.c_[(clusters, clusters_pred)]\n",
    "    tp = sum(comb(np.bincount(A[A[:, 0] == i, 1]), 2).sum()\n",
    "             for i in set(clusters))\n",
    "    fp = tp_plus_fp - tp\n",
    "    fn = tp_plus_fn - tp\n",
    "    tn = comb(len(A), 2) - tp - fp - fn\n",
    "    return (tp + tn) / (tp + fp + fn + tn)\n"
   ]
  },
  {
   "cell_type": "markdown",
   "metadata": {},
   "source": [
    "Compute the rand index between the reference clustering and 100 runs of the baseline algorithm."
   ]
  },
  {
   "cell_type": "code",
   "execution_count": 25,
   "metadata": {},
   "outputs": [],
   "source": [
    "#We create a list with the values of the 100 rand index\n",
    "rand_ind100 = [] \n",
    "\n",
    "for i in range (100) : \n",
    "    rand_clusters = new_cluster(features)\n",
    "    rand_ind100.append (rand_index(clusters, rand_clusters))"
   ]
  },
  {
   "cell_type": "markdown",
   "metadata": {},
   "source": [
    "Display results and compute the mean and standard deviation."
   ]
  },
  {
   "cell_type": "code",
   "execution_count": 26,
   "metadata": {},
   "outputs": [
    {
     "name": "stdout",
     "output_type": "stream",
     "text": [
      "[0.6375757575757576, 0.6321212121212121, 0.6303030303030303, 0.6311111111111111, 0.6296969696969696, 0.6319191919191919, 0.6272727272727273, 0.6270707070707071, 0.63010101010101, 0.6337373737373737, 0.6193939393939394, 0.6381818181818182, 0.6333333333333333, 0.6286868686868687, 0.6256565656565657, 0.6252525252525253, 0.6232323232323232, 0.6258585858585859, 0.6228282828282828, 0.6436363636363637, 0.6191919191919192, 0.6276767676767677, 0.6222222222222222, 0.6252525252525253, 0.6232323232323232, 0.6365656565656566, 0.6268686868686869, 0.6442424242424243, 0.6236363636363637, 0.6284848484848485, 0.6339393939393939, 0.6327272727272727, 0.636969696969697, 0.6183838383838384, 0.6260606060606061, 0.6248484848484849, 0.6337373737373737, 0.6272727272727273, 0.6163636363636363, 0.62, 0.6298989898989898, 0.6236363636363637, 0.6268686868686869, 0.6454545454545455, 0.6187878787878788, 0.6240404040404041, 0.6175757575757576, 0.6264646464646465, 0.6327272727272727, 0.6349494949494949, 0.6385858585858586, 0.6321212121212121, 0.6284848484848485, 0.6353535353535353, 0.6191919191919192, 0.6244444444444445, 0.6296969696969696, 0.6313131313131313, 0.6280808080808081, 0.6214141414141414, 0.6397979797979798, 0.6321212121212121, 0.6305050505050505, 0.6276767676767677, 0.6280808080808081, 0.6288888888888889, 0.6280808080808081, 0.6191919191919192, 0.6254545454545455, 0.6317171717171717, 0.6288888888888889, 0.6294949494949494, 0.6309090909090909, 0.6349494949494949, 0.6305050505050505, 0.6303030303030303, 0.6395959595959596, 0.6315151515151515, 0.6365656565656566, 0.6292929292929293, 0.6276767676767677, 0.6274747474747475, 0.6331313131313131, 0.6377777777777778, 0.6276767676767677, 0.6270707070707071, 0.6288888888888889, 0.6212121212121212, 0.6329292929292929, 0.6313131313131313, 0.6343434343434343, 0.6337373737373737, 0.6406060606060606, 0.6397979797979798, 0.6240404040404041, 0.6268686868686869, 0.6238383838383839, 0.6280808080808081, 0.6268686868686869, 0.6290909090909091]\n",
      "The mean value is :  0.629\n",
      "The standard deviation value is :  0.006\n"
     ]
    }
   ],
   "source": [
    "#Display the list \n",
    "print (rand_ind100)\n",
    "\n",
    "# Compute the mean and the standard deviation\n",
    "import statistics\n",
    "print (\"The mean value is : \",round(statistics.mean(rand_ind100), 3))\n",
    "print (\"The standard deviation value is : \",round(statistics.stdev(rand_ind100),4))"
   ]
  },
  {
   "cell_type": "markdown",
   "metadata": {},
   "source": [
    "## Hierarchical Clustering\n",
    "\n",
    "Compute the euclidean distance matrix using the pdist function from scipy.spatial.distance"
   ]
  },
  {
   "cell_type": "code",
   "execution_count": 27,
   "metadata": {},
   "outputs": [],
   "source": [
    "import scipy.spatial.distance as spd\n",
    "\n",
    "euclid_dist = spd.pdist (features , 'euclidean') "
   ]
  },
  {
   "cell_type": "markdown",
   "metadata": {},
   "source": [
    "Display and interpret its shape"
   ]
  },
  {
   "cell_type": "code",
   "execution_count": 28,
   "metadata": {},
   "outputs": [
    {
     "name": "stdout",
     "output_type": "stream",
     "text": [
      "(4950,)\n",
      "[13.05511282 20.00956184 19.9770681  ...  7.47561027 14.72184743\n",
      " 21.17263678]\n"
     ]
    }
   ],
   "source": [
    "print (euclid_dist.shape)\n",
    "print(euclid_dist)"
   ]
  },
  {
   "cell_type": "markdown",
   "metadata": {},
   "source": [
    "answer here\n",
    "\n"
   ]
  },
  {
   "cell_type": "markdown",
   "metadata": {},
   "source": [
    "@@@@\n",
    "\"\"\"\n",
    "The pdist function compute the distance between all the points using Euclidean distance.\n",
    "It can be see as N(N-1)/2 with N the number of points -->  (100*99/2) = 4950\n",
    "\"\"\""
   ]
  },
  {
   "cell_type": "markdown",
   "metadata": {},
   "source": [
    "Compute the single link hierarchical clustering using the linkage function from scipy.cluster.hierarchy."
   ]
  },
  {
   "cell_type": "code",
   "execution_count": 29,
   "metadata": {},
   "outputs": [],
   "source": [
    "from scipy.cluster.hierarchy import linkage as lk\n",
    "\n",
    "\n",
    "cluster_link = lk (euclid_dist, method='single', metric='euclidean')"
   ]
  },
  {
   "cell_type": "markdown",
   "metadata": {},
   "source": [
    "Display the corresponding dendrogram using the dendrogram function from scipy.cluster.hierarchy."
   ]
  },
  {
   "cell_type": "code",
   "execution_count": 30,
   "metadata": {},
   "outputs": [
    {
     "data": {
      "image/png": "[encoded data removed]",
      "text/plain": [
       "<Figure size 1800x720 with 1 Axes>"
      ]
     },
     "metadata": {
      "needs_background": "light"
     },
     "output_type": "display_data"
    }
   ],
   "source": [
    "from scipy.cluster.hierarchy import dendrogram as dend # Import de dendrogram library\n",
    "\n",
    "fig = plt.figure (figsize=(25,10)) #Modify the size of the plot\n",
    "cluster_dn = dend(cluster_link)"
   ]
  },
  {
   "cell_type": "markdown",
   "metadata": {},
   "source": [
    "Implement a clustering algorithm that cuts the dendrogram in order to produce k clusters using the fcluster function from scipy.cluster.hierarchy."
   ]
  },
  {
   "cell_type": "code",
   "execution_count": 31,
   "metadata": {},
   "outputs": [],
   "source": [
    "from scipy.cluster.hierarchy import fcluster as fcl \n",
    "\n",
    "# Clustering algorithm\n",
    "def k_cluster (features):\n",
    "    euclid_dist = spd.pdist (features , 'euclidean') \n",
    "    cluster_link = lk (euclid_dist, method='single', metric='euclidean')\n",
    "    new_cluster = fcl(cluster_link, t=4 , criterion='maxclust')\n",
    "    return new_cluster"
   ]
  },
  {
   "cell_type": "markdown",
   "metadata": {},
   "source": [
    "Compute the rand index between the reference clustering and 100 runs of this clustering algorithm."
   ]
  },
  {
   "cell_type": "code",
   "execution_count": 48,
   "metadata": {},
   "outputs": [],
   "source": [
    "rand_ind102 = [] \n",
    "\n",
    "for i in range (100) : \n",
    "    rand_clusters2 = k_cluster(features)\n",
    "    rand_ind102.append (rand_index(clusters, rand_clusters2))\n"
   ]
  },
  {
   "cell_type": "markdown",
   "metadata": {},
   "source": [
    "Display results and compute the mean and standard deviation."
   ]
  },
  {
   "cell_type": "code",
   "execution_count": 33,
   "metadata": {},
   "outputs": [
    {
     "name": "stdout",
     "output_type": "stream",
     "text": [
      "The mean value is :  1.0\n",
      "The standard deviation value is :  0.0\n"
     ]
    }
   ],
   "source": [
    "print (\"The mean value is : \",round(statistics.mean(rand_ind102), 3))\n",
    "print (\"The standard deviation value is : \",round(statistics.stdev(rand_ind102),4))"
   ]
  },
  {
   "cell_type": "markdown",
   "metadata": {},
   "source": [
    "Explain why the standard deviation is 0."
   ]
  },
  {
   "cell_type": "markdown",
   "metadata": {},
   "source": [
    "The function fcluster return a list of cluster equal to the reference list. It explain why the mean value is equal to 1 and the standard deviation equal to 0"
   ]
  },
  {
   "cell_type": "markdown",
   "metadata": {},
   "source": [
    "## Partitional Clustering\n",
    "\n",
    "Implement the k-means algorithm (see https://en.wikipedia.org/wiki/K-means_clustering section Standard algorithm for reference).\n",
    "\n",
    "Hint: please consider the cdist function from scipy.spatial.distance to compute the distance of the points to the centroids."
   ]
  },
  {
   "cell_type": "code",
   "execution_count": 34,
   "metadata": {},
   "outputs": [],
   "source": [
    "from scipy.spatial.distance import cdist\n",
    "\n",
    "# Initialization \n",
    "def init(data,k):\n",
    "    \n",
    "    KMplus = []\n",
    "    KMplus.append((*data[0],))\n",
    "    for a in range(1, k):\n",
    "            D2 = np.array([min([np.inner(c-x,c-x) for c in KMplus]) for x in data])\n",
    "            probs = D2/D2.sum()\n",
    "            cumprobs = probs.cumsum()\n",
    "            np.random.seed(20)           \n",
    "            r = np.random.rand()        \n",
    "            for j,p in enumerate(cumprobs):\n",
    "                if r < p:\n",
    "                    i = j\n",
    "                    break\n",
    "            KMplus.append((*data[i],))\n",
    "    return cdist(data, KMplus, metric='euclidean', out=None),KMplus\n"
   ]
  },
  {
   "cell_type": "code",
   "execution_count": 35,
   "metadata": {},
   "outputs": [],
   "source": [
    "def plotclusters(centers,data): \n",
    "    plt.figure (figsize=(20,10))\n",
    "    for i in centers:\n",
    "        plt.scatter(i[0],i[1],c='blue',s=60,marker='X')\n",
    "        plt.text(i[0],i[1], r' k'+str(centers.index(i)),c='blue', fontsize = 18)\n",
    "    for k in data:\n",
    "        plt.scatter(k[0],k[1])\n",
    "\n",
    "\n",
    "def new_center(new_KNcenters,sum_m):\n",
    "    cont1=0\n",
    "    for i2 in new_KNcenters:\n",
    "        cont2=0\n",
    "        for j in i2:\n",
    "            if sum_m[cont1]!=0: \n",
    "                new_KNcenters[cont1][cont2]/=sum_m[cont1]\n",
    "            cont2+=1\n",
    "        cont1+=1\n",
    "    return new_KNcenters\n",
    "\n",
    "# Compare the previous cluster with the new one\n",
    "def stability(new_clusters, prev_clusters):\n",
    "    if ( new_clusters == prev_clusters ):\n",
    "        return True\n",
    "    else:\n",
    "        return False"
   ]
  },
  {
   "cell_type": "code",
   "execution_count": 36,
   "metadata": {},
   "outputs": [],
   "source": [
    "def k_mean(data,k):\n",
    "   \n",
    "    # Initialization\n",
    "\n",
    "    dist, KNcenters = init(data,k) \n",
    "\n",
    "    \n",
    "    while (True): # Calculate centers in order to define the clusters\n",
    "        clust=[]\n",
    "        new_centers=[]\n",
    "        for x in range(k):\n",
    "            coord=[]\n",
    "            for j in range(data[0].size):\n",
    "                coord.append(0)\n",
    "            new_centers.append(coord)\n",
    "        sum_m=np.zeros((k))\n",
    "        \n",
    "        cont=0\n",
    "        \n",
    "        \n",
    "        for euclid_dist in dist:\n",
    "            c=0\n",
    "            for val in euclid_dist:\n",
    "                \n",
    "                if (val == min(euclid_dist)):\n",
    "                    break\n",
    "                c+=1\n",
    "             \n",
    "            if c >3:\n",
    "                break\n",
    "            new_centers[c][0]+=data[cont][0]\n",
    "            new_centers[c][1]+=data[cont][1]\n",
    "            clust.append(c)  \n",
    "            sum_m[c]+=1\n",
    "            cont+=1\n",
    "        \n",
    "        # Compute the new centers\n",
    "        new_centers = new_center(new_centers,sum_m)\n",
    "        # Call the function stability\n",
    "        stab = stability (new_centers,KNcenters)\n",
    "        if (stab == True) :\n",
    "            break # If the previous cluster is equal to the new one, we break the while loop\n",
    "        else:\n",
    "            dist = cdist(data, new_centers, metric='euclidean', out=None)\n",
    "            KNcenters=new_centers\n",
    "     #Plot the clusters with final centers\n",
    "    return clust \n",
    "    "
   ]
  },
  {
   "cell_type": "markdown",
   "metadata": {},
   "source": [
    "Compute the rand index between the reference clustering and 100 runs of this clustering algorithm."
   ]
  },
  {
   "cell_type": "code",
   "execution_count": 37,
   "metadata": {},
   "outputs": [
    {
     "name": "stdout",
     "output_type": "stream",
     "text": [
      "[0, 2, 1, 1, 1, 2, 0, 3, 0, 0, 2, 3, 2, 0, 1, 1, 0, 1, 0, 1, 0, 2, 3, 3, 0, 0, 2, 0, 1, 3, 0, 2, 2, 3, 1, 2, 0, 1, 2, 3, 3, 0, 1, 1, 3, 3, 1, 1, 3, 2, 1, 0, 2, 0, 1, 1, 0, 1, 2, 1, 3, 3, 2, 2, 2, 3, 2, 3, 0, 2, 0, 2, 2, 0, 1, 3, 0, 3, 3, 0, 3, 3, 0, 3, 2, 3, 3, 1, 2, 2, 1, 0, 3, 1, 3, 1, 2, 2, 1, 0]\n"
     ]
    }
   ],
   "source": [
    "#We create a list with the values of the 100 rand index\n",
    "\n",
    "rand_ind103=[]\n",
    "\n",
    "for i in range (100) : \n",
    "    rand_clusters3 = k_mean(features,4)\n",
    "    rand_ind103.append (rand_index(clusters, rand_clusters3))\n",
    "print (rand_clusters3)\n"
   ]
  },
  {
   "cell_type": "markdown",
   "metadata": {},
   "source": [
    "Display results and compute the mean and standard deviation."
   ]
  },
  {
   "cell_type": "code",
   "execution_count": 38,
   "metadata": {},
   "outputs": [
    {
     "name": "stdout",
     "output_type": "stream",
     "text": [
      "The mean value is :  1.0\n",
      "The standard deviation value is :  0.0\n"
     ]
    }
   ],
   "source": [
    "# Mean and standard deviation calculation\n",
    "print (\"The mean value is : \",round(statistics.mean(rand_ind103), 3))\n",
    "print (\"The standard deviation value is : \",round(statistics.stdev(rand_ind103),4))"
   ]
  },
  {
   "cell_type": "markdown",
   "metadata": {},
   "source": [
    "## Performance Analysis\n",
    "\n",
    "Display the performance of the 3 clustering algorithms on the synthetic dataset using the bar function from matplotlib.pyplot."
   ]
  },
  {
   "cell_type": "code",
   "execution_count": 46,
   "metadata": {},
   "outputs": [
    {
     "data": {
      "text/plain": [
       "<BarContainer object of 3 artists>"
      ]
     },
     "execution_count": 46,
     "metadata": {},
     "output_type": "execute_result"
    },
    {
     "data": {
      "image/png": "[encoded data removed]",
      "text/plain": [
       "<Figure size 432x288 with 1 Axes>"
      ]
     },
     "metadata": {
      "needs_background": "light"
     },
     "output_type": "display_data"
    },
    {
     "data": {
      "image/png": "[encoded data removed]",
      "text/plain": [
       "<Figure size 432x288 with 1 Axes>"
      ]
     },
     "metadata": {
      "needs_background": "light"
     },
     "output_type": "display_data"
    }
   ],
   "source": [
    "\n",
    "#Graph for the Mean calculation \n",
    "fig = plt.figure()\n",
    "plt.ylabel('Mean')\n",
    "plt.bar([1,2,3],[round(statistics.mean(rand_ind100), 3),round(statistics.mean(rand_ind102), 3),round(statistics.mean(rand_ind103), 3)],0.6,tick_label=['Random Clustering','Hierarchichal Clustering','Kmean Clustering'],color=['r','b','g'])\n",
    "\n",
    "\n",
    "#Graph for the Standard deviation calculation\n",
    "fig = plt.figure()\n",
    "plt.ylabel('Standard Deviation')\n",
    "plt.bar([1,2,3],[round(statistics.stdev(rand_ind100),4),round(statistics.stdev(rand_ind102),4),round(statistics.stdev(rand_ind103),4)],0.6,tick_label=['Random Clustering','Hierarchichal Clustering','Kmean Clustering'],color=['r','b','g']) "
   ]
  },
  {
   "cell_type": "markdown",
   "metadata": {},
   "source": [
    "Load the iris dataset using the load_iris function from scikit-learn and perform the same performance analysis using this dataset."
   ]
  },
  {
   "cell_type": "code",
   "execution_count": 45,
   "metadata": {},
   "outputs": [
    {
     "name": "stdout",
     "output_type": "stream",
     "text": [
      "Baseline algorithm\n",
      "The mean value is :  0.585\n",
      "The standard deviation value is :  0.0034\n",
      "Hierarchical clustering\n",
      "The mean value is :  0.777\n",
      "The standard deviation value is :  0.0\n",
      "Kmeans clustering\n",
      "The mean value is :  0.817\n",
      "The standard deviation value is :  0.0\n"
     ]
    },
    {
     "data": {
      "text/plain": [
       "<BarContainer object of 3 artists>"
      ]
     },
     "execution_count": 45,
     "metadata": {},
     "output_type": "execute_result"
    },
    {
     "data": {
      "image/png": "[encoded data removed]",
      "text/plain": [
       "<Figure size 432x288 with 1 Axes>"
      ]
     },
     "metadata": {
      "needs_background": "light"
     },
     "output_type": "display_data"
    },
    {
     "data": {
      "image/png": "[encoded data removed]",
      "text/plain": [
       "<Figure size 432x288 with 1 Axes>"
      ]
     },
     "metadata": {
      "needs_background": "light"
     },
     "output_type": "display_data"
    }
   ],
   "source": [
    "from sklearn.datasets import load_iris\n",
    "\n",
    "Iris, Iris_target = load_iris(return_X_y=True) #We split the dataset between the features (Iris), and the target cluster list (Iris_target)\n",
    "\n",
    "\n",
    "#compute with random algorithm\n",
    "rand_indIris=[]\n",
    "for i in range (100) : \n",
    "    bs_Iris = new_cluster(Iris)\n",
    "    rand_indIris.append (rand_index(Iris_target, bs_Iris))\n",
    "\n",
    "     # Mean and standard deviation calculation\n",
    "print (\"Baseline algorithm\")\n",
    "print (\"The mean value is : \",round(statistics.mean(rand_indIris), 3))\n",
    "print (\"The standard deviation value is : \",round(statistics.stdev(rand_indIris),4))\n",
    "\n",
    "#Compute with hierarchical clustering\n",
    "rand_indIris2=[]\n",
    "for i in range (100) : \n",
    "    k_Iris = k_cluster (Iris)\n",
    "    rand_indIris2.append (rand_index(Iris_target, k_Iris))\n",
    "     # Mean and standard deviation calculation\n",
    "print (\"Hierarchical clustering\")\n",
    "print (\"The mean value is : \",round(statistics.mean(rand_indIris2), 3))\n",
    "print (\"The standard deviation value is : \",round(statistics.stdev(rand_indIris2),4))\n",
    "\n",
    "#Compute with Kmeans algorithm\n",
    "rand_indIris3=[]\n",
    "for i in range (100) : \n",
    "    KM_Iris = k_mean(Iris,3)\n",
    "    rand_indIris3.append (rand_index(Iris_target, KM_Iris))\n",
    "     # Mean and standard deviation calculation\n",
    "print (\"Kmeans clustering\")\n",
    "print (\"The mean value is : \",round(statistics.mean(rand_indIris3), 3))\n",
    "print (\"The standard deviation value is : \",round(statistics.stdev(rand_indIris3),4))\n",
    "\n",
    "#Graph for the Mean calculation \n",
    "fig = plt.figure()\n",
    "plt.bar([1,2,3],[round(statistics.mean(rand_indIris), 3),round(statistics.mean(rand_indIris2), 3),round(statistics.mean(rand_indIris3), 3)],0.6,tick_label=['Random Clustering','Hierarchichal Clustering','Kmean Clustering'],color=['r','b','g'])\n",
    "plt.ylabel('Mean')\n",
    "\n",
    "#Graph for the Standard deviation calculation\n",
    "fig = plt.figure()\n",
    "plt.bar([1,2,3],[round(statistics.stdev(rand_indIris),4),round(statistics.stdev(rand_indIris2),4),round(statistics.stdev(rand_indIris3),4)],0.6,tick_label=['Random Clustering','Hierarchichal Clustering','Kmean Clustering'],color=['r','b','g']) \n",
    "plt.ylabel('Standard Deviation')\n"
   ]
  },
  {
   "cell_type": "markdown",
   "metadata": {},
   "source": [
    "Load the Breast cancer wisconsin (diagnostic) dataset dataset using the load_breast_cancer function from scikit-learn and perform the same performance analysis using this dataset."
   ]
  },
  {
   "cell_type": "code",
   "execution_count": 44,
   "metadata": {},
   "outputs": [
    {
     "name": "stdout",
     "output_type": "stream",
     "text": [
      "Baseline algorithm\n",
      "The mean value is :  0.484\n",
      "The standard deviation value is :  0.001\n",
      "Hierarchical clustering\n",
      "The mean value is :  0.535\n",
      "The standard deviation value is :  0.0\n",
      "Kmeans clustering\n",
      "The mean value is :  0.7\n",
      "The standard deviation value is :  0.0\n"
     ]
    },
    {
     "data": {
      "text/plain": [
       "<BarContainer object of 3 artists>"
      ]
     },
     "execution_count": 44,
     "metadata": {},
     "output_type": "execute_result"
    },
    {
     "data": {
      "image/png": "[encoded data removed]",
      "text/plain": [
       "<Figure size 432x288 with 1 Axes>"
      ]
     },
     "metadata": {
      "needs_background": "light"
     },
     "output_type": "display_data"
    },
    {
     "data": {
      "image/png": "[encoded data removed]",
      "text/plain": [
       "<Figure size 432x288 with 1 Axes>"
      ]
     },
     "metadata": {
      "needs_background": "light"
     },
     "output_type": "display_data"
    }
   ],
   "source": [
    "from sklearn.datasets import load_breast_cancer\n",
    "\n",
    "Cancer, Cancer_target = load_breast_cancer(return_X_y=True) #We split the dataset between the features (Cancer), and the target cluster list (Cancer_target)\n",
    "\n",
    "\n",
    "#compute with random algorithm\n",
    "rand_indCancer=[]\n",
    "for i in range (100) : \n",
    "    bs_Cancer = new_cluster(Cancer)\n",
    "    rand_indCancer.append (rand_index(Cancer_target, bs_Cancer))\n",
    "\n",
    "     # Mean and standard deviation calculation\n",
    "print (\"Baseline algorithm\")\n",
    "print (\"The mean value is : \",round(statistics.mean(rand_indCancer), 3))\n",
    "print (\"The standard deviation value is : \",round(statistics.stdev(rand_indCancer),4))\n",
    "\n",
    "#Compute with hierarchical clustering\n",
    "rand_indCancer2=[]\n",
    "for i in range (100) : \n",
    "    k_Cancer = k_cluster (Cancer)\n",
    "    rand_indCancer2.append (rand_index(Cancer_target, k_Cancer))\n",
    "     # Mean and standard deviation calculation\n",
    "print (\"Hierarchical clustering\")\n",
    "print (\"The mean value is : \",round(statistics.mean(rand_indCancer2), 3))\n",
    "print (\"The standard deviation value is : \",round(statistics.stdev(rand_indCancer2),4))\n",
    "\n",
    "#Compute with Kmeans algorithm\n",
    "rand_indCancer3=[]\n",
    "for i in range (100) : \n",
    "    KM_Cancer = k_mean(Cancer,3)\n",
    "    rand_indCancer3.append (rand_index(Cancer_target, KM_Cancer))\n",
    "     # Mean and standard deviation calculation\n",
    "print (\"Kmeans clustering\")\n",
    "print (\"The mean value is : \",round(statistics.mean(rand_indCancer3), 3))\n",
    "print (\"The standard deviation value is : \",round(statistics.stdev(rand_indCancer3),4))\n",
    "\n",
    "#Graph for the Mean calculation \n",
    "fig = plt.figure()\n",
    "plt.ylabel('Mean')\n",
    "plt.bar([1,2,3],[round(statistics.mean(rand_indCancer), 3),round(statistics.mean(rand_indCancer2), 3),round(statistics.mean(rand_indCancer3), 3)],0.6,tick_label=['Random Clustering','Hierarchichal Clustering','Kmean Clustering'],color=['r','b','g'])\n",
    "\n",
    "\n",
    "#Graph for the Standard deviation calculation\n",
    "fig = plt.figure()\n",
    "plt.ylabel('Standard Deviation')\n",
    "plt.bar([1,2,3],[round(statistics.stdev(rand_indCancer),4),round(statistics.stdev(rand_indCancer2),4),round(statistics.stdev(rand_indCancer3),4)],0.6,tick_label=['Random Clustering','Hierarchichal Clustering','Kmean Clustering'],color=['r','b','g']) \n",
    "\n"
   ]
  },
  {
   "cell_type": "markdown",
   "metadata": {},
   "source": [
    "We can see that in all three cases, the standard deviation values are equal to zero for the Hierarchical and Kmeans clustering method. We also note that the Kmeans algorithm have always closer to one than the others algorithm"
   ]
  },
  {
   "cell_type": "markdown",
   "metadata": {},
   "source": [
    "## [Bonus] Determining the number of clusters\n",
    "\n",
    "Implement the gap statistic method for determining the optimal number of clusters for the 3 datasets.\n"
   ]
  },
  {
   "cell_type": "code",
   "execution_count": null,
   "metadata": {},
   "outputs": [],
   "source": []
  },
  {
   "cell_type": "markdown",
   "metadata": {},
   "source": [
    "Discuss the results."
   ]
  },
  {
   "cell_type": "markdown",
   "metadata": {},
   "source": [
    "answer here."
   ]
  },
  {
   "cell_type": "code",
   "execution_count": null,
   "metadata": {},
   "outputs": [],
   "source": []
  }
 ],
 "metadata": {
  "interpreter": {
   "hash": "072196596c1bc1956785552ec708fe0e7ebfa97fc2a86d0f77b1a6aec35d0193"
  },
  "kernelspec": {
   "display_name": "Python 3.9.5 64-bit ('base': conda)",
   "name": "python3"
  },
  "language_info": {
   "codemirror_mode": {
    "name": "ipython",
    "version": 3
   },
   "file_extension": ".py",
   "mimetype": "text/x-python",
   "name": "python",
   "nbconvert_exporter": "python",
   "pygments_lexer": "ipython3",
   "version": "3.9.5"
  }
 },
 "nbformat": 4,
 "nbformat_minor": 4
}
